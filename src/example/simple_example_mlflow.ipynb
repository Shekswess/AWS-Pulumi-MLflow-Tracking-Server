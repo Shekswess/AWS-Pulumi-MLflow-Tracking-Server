{
 "cells": [
  {
   "cell_type": "code",
   "execution_count": null,
   "metadata": {},
   "outputs": [],
   "source": [
    "import matplotlib.pyplot as plt\n",
    "import mlflow as ml\n",
    "import numpy as np\n",
    "import pandas as pd\n",
    "import seaborn as sns\n",
    "\n",
    "import sklearn.datasets\n",
    "import sklearn.ensemble\n",
    "import sklearn.metrics\n",
    "import sklearn.model_selection"
   ]
  },
  {
   "cell_type": "code",
   "execution_count": null,
   "metadata": {},
   "outputs": [],
   "source": [
    "ml.create_experiment(\"test_experiment\")\n",
    "ml.set_experiment(\"test_experiment\")"
   ]
  },
  {
   "cell_type": "code",
   "execution_count": null,
   "metadata": {},
   "outputs": [],
   "source": [
    "ml.start_run(run_name=\"Test\")\n",
    "\n",
    "X, y = sklearn.datasets.load_iris(return_X_y=True)\n",
    "X_train, X_test, y_train, y_test = sklearn.model_selection.train_test_split(X, y)\n",
    "# create a df for the dataset and safe it as a csv\n",
    "df = pd.DataFrame(\n",
    "   X_train, columns=[\"sepal_length\", \"sepal_width\", \"petal_length\", \"petal_width\"]\n",
    ")\n",
    "df[\"Label\"] = y_train\n",
    "df.to_csv(\"iris.csv\", index=False)\n",
    "\n",
    "model = sklearn.ensemble.RandomForestClassifier(n_estimators=100, max_depth=5)\n",
    "model.fit(X_train, y_train)\n",
    "parameters = model.get_params()\n",
    "accuracy = {\"accuracy\": model.score(X_test, y_test)}\n",
    "y_pred = model.predict(X_test)\n",
    "confusion_matrix = sklearn.metrics.confusion_matrix(y_test, y_pred)\n",
    "sns.heatmap(confusion_matrix, annot=True, fmt=\"d\")\n",
    "plt.savefig(\"confusion_matrix.png\")"
   ]
  },
  {
   "cell_type": "code",
   "execution_count": null,
   "metadata": {},
   "outputs": [],
   "source": [
    "\n",
    "# Starting a run\n",
    "\n",
    "# Loading a dataset\n",
    "\n",
    "# Defining a model with parameters and training it\n",
    "\n",
    "# Getting the parameters of the model\n",
    "\n",
    "# Getting the accuracy of the model\n",
    "\n",
    "\n",
    "ml.log_dataset(\"iris.csv\")\n",
    "ml.log_params(parameters)\n",
    "ml.log_metrics(accuracy)\n",
    "ml.log_artifact(\"confusion_matrix.png\")\n",
    "ml.end_run()\n"
   ]
  }
 ],
 "metadata": {
  "language_info": {
   "name": "python"
  }
 },
 "nbformat": 4,
 "nbformat_minor": 2
}
