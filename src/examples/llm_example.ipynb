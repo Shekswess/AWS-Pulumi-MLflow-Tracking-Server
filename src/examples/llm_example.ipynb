{
 "cells": [
  {
   "cell_type": "code",
   "execution_count": null,
   "metadata": {},
   "outputs": [],
   "source": [
    "# Importing libraries\n",
    "import mlflow as ml\n",
    "import openai\n",
    "import os\n",
    "import pandas as pd\n",
    "\n",
    "from getpass import getpass"
   ]
  },
  {
   "cell_type": "code",
   "execution_count": null,
   "metadata": {},
   "outputs": [],
   "source": [
    "# Setting up the OpenAI API key\n",
    "OPENAI_API_KEY = 'your-api-key-here'"
   ]
  },
  {
   "cell_type": "code",
   "execution_count": null,
   "metadata": {},
   "outputs": [],
   "source": [
    "# Setting up remote tracking server\n",
    "ml.set_tracking_uri('http://user:password@ip:port')"
   ]
  },
  {
   "cell_type": "code",
   "execution_count": null,
   "metadata": {},
   "outputs": [],
   "source": [
    "# Creating an experiment and setting it\n",
    "ml.create_experiment(\"test_experiment\")\n",
    "ml.set_experiment(\"test_experiment\")"
   ]
  },
  {
   "cell_type": "code",
   "execution_count": null,
   "metadata": {},
   "outputs": [],
   "source": [
    "# Starting a run\n",
    "ml.start_run(run_name=\"Test\")\n",
    "\n",
    "# Creating an evaluation data\n",
    "eval_data = pd.DataFrame(\n",
    "    {\n",
    "        \"inputs\": [\n",
    "            \"What is MLflow?\",\n",
    "            \"What is Spark?\",\n",
    "        ],\n",
    "        \"ground_truth\": [\n",
    "            \"MLflow is an open-source platform for managing the end-to-end machine learning (ML) \"\n",
    "            \"lifecycle. It was developed by Databricks, a company that specializes in big data and \"\n",
    "            \"machine learning solutions. MLflow is designed to address the challenges that data \"\n",
    "            \"scientists and machine learning engineers face when developing, training, and deploying \"\n",
    "            \"machine learning models.\",\n",
    "            \"Apache Spark is an open-source, distributed computing system designed for big data \"\n",
    "            \"processing and analytics. It was developed in response to limitations of the Hadoop \"\n",
    "            \"MapReduce computing model, offering improvements in speed and ease of use. Spark \"\n",
    "            \"provides libraries for various tasks such as data ingestion, processing, and analysis \"\n",
    "            \"through its components like Spark SQL for structured data, Spark Streaming for \"\n",
    "            \"real-time data processing, and MLlib for machine learning tasks\",\n",
    "        ],\n",
    "    }\n",
    ")\n",
    "\n",
    "# Defining the system prompt\n",
    "system_prompt = \"Answer the following question in two sentences\"\n",
    "\n",
    "# Logging the model information\n",
    "logged_model_info = ml.openai.log_model(\n",
    "    model=\"gpt-4\",\n",
    "    task=openai.ChatCompletion,\n",
    "    artifact_path=\"model\",\n",
    "    messages=[\n",
    "        {\"role\": \"system\", \"content\": system_prompt},\n",
    "        {\"role\": \"user\", \"content\": \"{question}\"},\n",
    "    ],\n",
    ")\n",
    "\n",
    "# Evaluating the model\n",
    "results = ml.evaluate(\n",
    "    logged_model_info.model_uri,\n",
    "    eval_data,\n",
    "    targets=\"ground_truth\",\n",
    "    model_type=\"question-answering\",\n",
    ")\n",
    "print(f\"See aggregated evaluation results below: \\n{results.metrics}\")\n",
    "\n",
    "# Logging the evaluation table\n",
    "eval_table = results.tables[\"eval_results_table\"]\n",
    "print(f\"See evaluation table below: \\n{eval_table}\")\n",
    "\n",
    "# Ending the run\n",
    "ml.end_run()"
   ]
  }
 ],
 "metadata": {
  "kernelspec": {
   "display_name": "DataMLOps",
   "language": "python",
   "name": "python3"
  },
  "language_info": {
   "name": "python",
   "version": "3.9.16"
  }
 },
 "nbformat": 4,
 "nbformat_minor": 2
}
