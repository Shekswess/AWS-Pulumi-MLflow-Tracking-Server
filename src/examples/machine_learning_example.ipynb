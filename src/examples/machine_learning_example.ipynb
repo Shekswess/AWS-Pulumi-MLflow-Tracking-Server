{
 "cells": [
  {
   "cell_type": "code",
   "execution_count": null,
   "metadata": {},
   "outputs": [],
   "source": [
    "# Importing libraries\n",
    "import matplotlib.pyplot as plt\n",
    "import mlflow as ml\n",
    "import pandas as pd\n",
    "import seaborn as sns\n",
    "\n",
    "import sklearn.datasets\n",
    "import sklearn.ensemble\n",
    "import sklearn.metrics\n",
    "import sklearn.model_selection"
   ]
  },
  {
   "cell_type": "code",
   "execution_count": null,
   "metadata": {},
   "outputs": [],
   "source": [
    "# Setting up remote tracking server\n",
    "ml.set_tracking_uri('http://user:password@ip:port')"
   ]
  },
  {
   "cell_type": "code",
   "execution_count": null,
   "metadata": {},
   "outputs": [],
   "source": [
    "# Creating an experiment and setting it\n",
    "ml.create_experiment(\"test_experiment\")\n",
    "ml.set_experiment(\"test_experiment\")"
   ]
  },
  {
   "cell_type": "code",
   "execution_count": null,
   "metadata": {},
   "outputs": [],
   "source": [
    "# Starting a run\n",
    "ml.start_run(run_name=\"Test\")\n",
    "\n",
    "# Loading the iris dataset and splitting it into train and test sets\n",
    "X, y = sklearn.datasets.load_iris(return_X_y=True)\n",
    "X_train, X_test, y_train, y_test = sklearn.model_selection.train_test_split(X, y)\n",
    "\n",
    "# Saving the dataset to a csv file\n",
    "df = pd.DataFrame(\n",
    "   X_train, columns=[\"sepal_length\", \"sepal_width\", \"petal_length\", \"petal_width\"]\n",
    ")\n",
    "df[\"Label\"] = y_train\n",
    "df.to_csv(\"iris.csv\", index=False)\n",
    "\n",
    "# Training a random forest model\n",
    "model = sklearn.ensemble.RandomForestClassifier(n_estimators=100, max_depth=5)\n",
    "model.fit(X_train, y_train)\n",
    "\n",
    "# Getting the model's parameters\n",
    "parameters = model.get_params()\n",
    "\n",
    "# Getting the model accuracy and predictions on the test set\n",
    "accuracy = {\"accuracy\": model.score(X_test, y_test)}\n",
    "y_pred = model.predict(X_test)\n",
    "\n",
    "# Creating a confusion matrix\n",
    "confusion_matrix = sklearn.metrics.confusion_matrix(y_test, y_pred)\n",
    "sns.heatmap(confusion_matrix, annot=True, fmt=\"d\")\n",
    "plt.savefig(\"confusion_matrix.png\")"
   ]
  },
  {
   "cell_type": "code",
   "execution_count": null,
   "metadata": {},
   "outputs": [],
   "source": [
    "# Logging the dataset, parameters, metrics and artifacts(the confusion matrix image)\n",
    "ml.log_dataset(\"iris.csv\")\n",
    "ml.log_params(parameters)\n",
    "ml.log_metrics(accuracy)\n",
    "ml.log_artifact(\"confusion_matrix.png\")\n",
    "ml.end_run()"
   ]
  }
 ],
 "metadata": {
  "language_info": {
   "name": "python"
  }
 },
 "nbformat": 4,
 "nbformat_minor": 2
}
